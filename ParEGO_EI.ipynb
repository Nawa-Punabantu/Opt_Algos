{
  "nbformat": 4,
  "nbformat_minor": 0,
  "metadata": {
    "colab": {
      "provenance": [],
      "authorship_tag": "ABX9TyPuCR6BixZz4NVyIUSWR+JH",
      "include_colab_link": true
    },
    "kernelspec": {
      "name": "python3",
      "display_name": "Python 3"
    },
    "language_info": {
      "name": "python"
    }
  },
  "cells": [
    {
      "cell_type": "markdown",
      "metadata": {
        "id": "view-in-github",
        "colab_type": "text"
      },
      "source": [
        "<a href=\"https://colab.research.google.com/github/Nawa-Punabantu/Opt_Algos/blob/main/ParEGO_EI.ipynb\" target=\"_parent\"><img src=\"https://colab.research.google.com/assets/colab-badge.svg\" alt=\"Open In Colab\"/></a>"
      ]
    },
    {
      "cell_type": "code",
      "execution_count": 17,
      "metadata": {
        "id": "hys7n9lRIeAg"
      },
      "outputs": [],
      "source": [
        "import numpy as np\n",
        "from sklearn.gaussian_process import GaussianProcessRegressor\n",
        "from sklearn.gaussian_process.kernels import RBF, ConstantKernel as C\n",
        "from scipy.optimize import differential_evolution\n",
        "import matplotlib.pyplot as plt\n",
        "from scipy.stats import norm\n",
        "\n",
        "\n"
      ]
    },
    {
      "cell_type": "code",
      "source": [
        "\n",
        "# --- Define KNO1 objective functions ---\n",
        "def compute_r(x1, x2):\n",
        "\n",
        "    term1 = 3 * np.sin(5 / (2 * (x1 + x2)**2))\n",
        "    term2 = 3 * np.sin(4 * (x1 + x2))\n",
        "    term3 = 5 * np.sin(2 * (x1 + x2) + 2)\n",
        "    return 9 - (term1 + term2 + term3)\n",
        "\n",
        "def compute_phi(x1, x2):\n",
        "    return np.pi / (12 * (x1 - x2 + 3))\n",
        "\n",
        "def kno1_f1(x):\n",
        "    epsilon = 1e-8\n",
        "    x+=epsilon\n",
        "    r = compute_r(x[0], x[1])\n",
        "    phi = compute_phi(x[0], x[1])\n",
        "    return 20 - r * np.cos(phi)\n",
        "\n",
        "def kno1_f2(x):\n",
        "    epsilon = 1e-8\n",
        "    x+=epsilon\n",
        "    r = compute_r(x[0], x[1])\n",
        "    phi = compute_phi(x[0], x[1])\n",
        "    return 20 - r * np.sin(phi)\n",
        "\n",
        "# --- Surrogate model creation ---\n",
        "def surrogate_model(X_train, y_train):\n",
        "    kernel = C(1.0, (1e-4, 10.0)) * RBF(1.0, (1e-4, 10.0))\n",
        "    gp = GaussianProcessRegressor(kernel=kernel, alpha=1e-3, normalize_y=True, n_restarts_optimizer=5)\n",
        "    gp.fit(X_train, y_train)\n",
        "    return gp\n",
        "\n",
        "# --- Scalarized surrogate objective for ParEGO ---\n",
        "\n",
        "def scalarized_surrogate_objective(x, surrogate_f1, surrogate_f2, weights):\n",
        "    \"\"\"\n",
        "    outputs a scalar given the scalar fromed from the inputs\n",
        "    the candidated point [x] is evaluated at the surrogate_f1 & surrogate_f2\n",
        "\n",
        "    and the value of the Tchebycheb at x is then evaluated\n",
        "\n",
        "    this is the form expected by the, differential_evolution function since\n",
        "    we are directly optimizaing the Tchebychev function and not the EI\n",
        "\n",
        "    \"\"\"\n",
        "\n",
        "    f1_pred = surrogate_f1.predict([x])[0]\n",
        "    f2_pred = surrogate_f2.predict([x])[0]\n",
        "\n",
        "    # Tchebycheff scalarization\n",
        "    scalar_value = max(weights[0] * f1_pred, weights[1] * f2_pred)\n",
        "\n",
        "    # Add nonlinear augmentation (optional, per ParEGO paper)\n",
        "    phi = 0.05\n",
        "    scalar_value += phi * (weights[0] * f1_pred + weights[1] * f2_pred)\n",
        "\n",
        "    return scalar_value\n",
        "\n",
        "# --- AQ func: Expected Improvement ---\n",
        "def expected_improvement(x, surrogate_f1, surrogate_f2, weights, y_best):\n",
        "    \"\"\"\n",
        "    Computes the Expected Improvement at a point x.\n",
        "    Scalarizes the surrogate predictions using Tchebycheff, then computes EI.\n",
        "    \"\"\"\n",
        "    x = np.array(x).reshape(1, -1)\n",
        "\n",
        "    mu_f1, sigma_f1 = surrogate_f1.predict(x, return_std=True)\n",
        "    mu_f2, sigma_f2 = surrogate_f2.predict(x, return_std=True)\n",
        "\n",
        "    mu_scalar = np.maximum(weights[0] * mu_f1, weights[1] * mu_f2)\n",
        "    phi = 0.05\n",
        "    mu_scalar += phi * (weights[0] * mu_f1 + weights[1] * mu_f2)\n",
        "\n",
        "    # Approximate variance of scalarized objective\n",
        "    sigma_scalar = np.sqrt(weights[0]**2 * sigma_f1**2 + weights[1]**2 * sigma_f2**2)\n",
        "\n",
        "    # Compute EI\n",
        "    with np.errstate(divide='warn'):\n",
        "        Z = (y_best - mu_scalar) / sigma_scalar\n",
        "        ei = (y_best - mu_scalar) * norm.cdf(Z) + sigma_scalar * norm.pdf(Z)\n",
        "        ei[sigma_scalar == 0.0] = 0.0\n",
        "\n",
        "    return -ei[0]  # Negative for minimization\n",
        "\n",
        "\n",
        "# --- Initialize random population ---\n",
        "def initialize_population(pop_size, bounds):\n",
        "    \"\"\"\n",
        "    outputs a matrix of mxn, where:\n",
        "    m => number of (random) samples\n",
        "    n => sampled values of the nth variable, we have 2 vars here so; mx2.\n",
        "\n",
        "    This is where we would place a latin hypercube routine\n",
        "    to select initial points\n",
        "\n",
        "    Note that each row, correspondes to 1 scalar point for each objective\n",
        "\n",
        "\n",
        "    \"\"\"\n",
        "    return np.random.uniform(bounds[:, 0], bounds[:, 1], (pop_size, bounds.shape[0]))\n",
        "\n",
        "# --- Update Pareto front ---\n",
        "def update_pareto_front(pop, f1_vals, f2_vals):\n",
        "    pareto = []\n",
        "    for i in range(len(pop)):\n",
        "        dominated = False\n",
        "        for j in range(len(pop)):\n",
        "            if (f1_vals[j] <= f1_vals[i] and f2_vals[j] <= f2_vals[i]) and (f1_vals[j] < f1_vals[i] or f2_vals[j] < f2_vals[i]):\n",
        "                dominated = True\n",
        "                break\n",
        "        if not dominated:\n",
        "            pareto.append([f1_vals[i], f2_vals[i]])\n",
        "    return np.array(pareto)\n",
        "\n",
        "# --- ParEGO Main Loop ---\n",
        "def par_ego(num_generations, pop_size, bounds):\n",
        "    population = initialize_population(pop_size, bounds)\n",
        "\n",
        "    f1_vals = np.array([kno1_f1(p) for p in population])\n",
        "    f2_vals = np.array([kno1_f2(p) for p in population])\n",
        "    # Note that: kno1_f2(p) for p in population loops through each row\n",
        "    # Each row is a sample. If we have m rows, the length of f1_vals and\n",
        "    # f2_vals, is m.\n",
        "\n",
        "    # Initialize where we will store solutions\n",
        "    pareto_all = []\n",
        "\n",
        "    for gen in range(num_generations):\n",
        "        # generation = iteration\n",
        "\n",
        "        # Train surrogate models\n",
        "        # Note that for 2d x vals, surrogate_f1 and surrogate_f2\n",
        "        # are 3d surfaces\n",
        "        surrogate_f1 = surrogate_model(population, f1_vals)\n",
        "        surrogate_f2 = surrogate_model(population, f2_vals)\n",
        "        # Note that for 2d x vals, surrogate_f1 and surrogate_f2\n",
        "        # are 3d surfaces\n",
        "\n",
        "        # Generate random weights for scalarization\n",
        "        lam = np.random.rand()\n",
        "        weights = [lam, 1 - lam]\n",
        "        # Note that we generate new weights in each iteration/generation\n",
        "        # i.e. each time we update the training set\n",
        "\n",
        "        # Scalarized function value of current best point\n",
        "        phi = 0.05\n",
        "        f1_preds = surrogate_f1.predict(population)\n",
        "        f2_preds = surrogate_f2.predict(population)\n",
        "        scalar_preds = np.maximum(weights[0] * f1_preds, weights[1] * f2_preds)\n",
        "        scalar_preds += phi * (weights[0] * f1_preds + weights[1] * f2_preds)\n",
        "        y_best = np.min(scalar_preds)\n",
        "\n",
        "        # Optimize EI instead of Tchebycheff directly\n",
        "        result = differential_evolution(\n",
        "            expected_improvement,\n",
        "            bounds=bounds,\n",
        "            args=(surrogate_f1, surrogate_f2, weights, y_best),\n",
        "            maxiter=20,\n",
        "            popsize=10,\n",
        "            seed=42,\n",
        "            disp=False\n",
        "        )\n",
        "\n",
        "        x_new = result.x\n",
        "        f1_new = kno1_f1(x_new)\n",
        "        f2_new = kno1_f2(x_new)\n",
        "\n",
        "        # Add to population\n",
        "        population = np.vstack((population, x_new))\n",
        "        f1_vals = np.append(f1_vals, f1_new)\n",
        "        f2_vals = np.append(f2_vals, f2_new)\n",
        "\n",
        "        # Store current pareto\n",
        "        pareto = update_pareto_front(population, f1_vals, f2_vals)\n",
        "        pareto_all.append(pareto)\n",
        "\n",
        "        print(f\"Gen {gen+1} | New f1: {f1_new:.4f}, f2: {f2_new:.4f}\")\n",
        "\n",
        "    return pareto_all[-1], f1_vals, f2_vals\n",
        "\n"
      ],
      "metadata": {
        "id": "BcsASoZqJeCn"
      },
      "execution_count": 22,
      "outputs": []
    },
    {
      "cell_type": "code",
      "source": [
        "bounds = np.array([[0, 3], [0, 3]])\n",
        "num_generations = 50\n",
        "pop_size = 5\n",
        "population = np.random.uniform(bounds[:, 0], bounds[:, 1], (pop_size, bounds.shape[0]))\n",
        "for p in population:\n",
        "  print(p)"
      ],
      "metadata": {
        "colab": {
          "base_uri": "https://localhost:8080/"
        },
        "id": "ZaAGhuEHL_0H",
        "outputId": "2c1ffc18-1417-48ac-90b7-2b5480c8d3ec"
      },
      "execution_count": 18,
      "outputs": [
        {
          "output_type": "stream",
          "name": "stdout",
          "text": [
            "[1.1038253  0.88292748]\n",
            "[2.76999165 1.83961177]\n",
            "[2.02996834 0.20734653]\n",
            "[2.29902321 0.18076327]\n",
            "[0.22584157 0.06784899]\n"
          ]
        }
      ]
    },
    {
      "cell_type": "code",
      "source": [
        "# --- Run ParEGO ---\n",
        "bounds = np.array([[0, 3], [0, 3]])\n",
        "num_generations = 50 # C iterations\n",
        "pop_size = 20     # number of initial samples to draw and train the GPs on.\n",
        "\n",
        "pareto_front, all_f1, all_f2 = par_ego(num_generations, pop_size, bounds)\n",
        "\n"
      ],
      "metadata": {
        "colab": {
          "base_uri": "https://localhost:8080/"
        },
        "id": "fJLur7I6JWBS",
        "outputId": "0ac32165-e0b3-4de0-fd1f-c85bbeca915b"
      },
      "execution_count": 25,
      "outputs": [
        {
          "output_type": "stream",
          "name": "stdout",
          "text": [
            "Gen 1 | New f1: 6.8832, f2: 18.6020\n",
            "Gen 2 | New f1: 11.0646, f2: 18.8073\n"
          ]
        },
        {
          "output_type": "stream",
          "name": "stderr",
          "text": [
            "/usr/local/lib/python3.11/dist-packages/sklearn/gaussian_process/kernels.py:442: ConvergenceWarning: The optimal value found for dimension 0 of parameter k2__length_scale is close to the specified lower bound 0.0001. Decreasing the bound and calling fit again may find a better value.\n",
            "  warnings.warn(\n"
          ]
        },
        {
          "output_type": "stream",
          "name": "stdout",
          "text": [
            "Gen 3 | New f1: 5.3655, f2: 17.7631\n",
            "Gen 4 | New f1: 6.8669, f2: 18.8159\n",
            "Gen 5 | New f1: 14.9877, f2: 18.0996\n",
            "Gen 6 | New f1: 4.1844, f2: 17.9518\n",
            "Gen 7 | New f1: 6.6339, f2: 18.6173\n",
            "Gen 8 | New f1: 3.8160, f2: 17.5451\n",
            "Gen 9 | New f1: 3.7757, f2: 18.4520\n",
            "Gen 10 | New f1: 6.8496, f2: 18.9536\n",
            "Gen 11 | New f1: 3.7488, f2: 18.2600\n",
            "Gen 12 | New f1: 10.1639, f2: 19.0561\n",
            "Gen 13 | New f1: 3.9799, f2: 16.8170\n"
          ]
        },
        {
          "output_type": "stream",
          "name": "stderr",
          "text": [
            "/usr/local/lib/python3.11/dist-packages/sklearn/gaussian_process/kernels.py:442: ConvergenceWarning: The optimal value found for dimension 0 of parameter k2__length_scale is close to the specified lower bound 0.0001. Decreasing the bound and calling fit again may find a better value.\n",
            "  warnings.warn(\n"
          ]
        },
        {
          "output_type": "stream",
          "name": "stdout",
          "text": [
            "Gen 14 | New f1: 4.1326, f2: 16.7581\n",
            "Gen 15 | New f1: 5.0287, f2: 16.6707\n",
            "Gen 16 | New f1: 4.5585, f2: 18.4434\n",
            "Gen 17 | New f1: 7.5824, f2: 19.3471\n",
            "Gen 18 | New f1: 8.1156, f2: 17.6301\n",
            "Gen 19 | New f1: 18.0214, f2: 14.1247\n"
          ]
        },
        {
          "output_type": "stream",
          "name": "stderr",
          "text": [
            "/usr/local/lib/python3.11/dist-packages/sklearn/gaussian_process/kernels.py:442: ConvergenceWarning: The optimal value found for dimension 0 of parameter k2__length_scale is close to the specified lower bound 0.0001. Decreasing the bound and calling fit again may find a better value.\n",
            "  warnings.warn(\n"
          ]
        },
        {
          "output_type": "stream",
          "name": "stdout",
          "text": [
            "Gen 20 | New f1: 4.0446, f2: 18.6684\n",
            "Gen 21 | New f1: 25.3340, f2: 18.5151\n",
            "Gen 22 | New f1: 3.8623, f2: 17.9748\n",
            "Gen 23 | New f1: 16.4098, f2: 19.7885\n",
            "Gen 24 | New f1: 4.3828, f2: 18.8930\n",
            "Gen 25 | New f1: 16.7248, f2: 19.8519\n",
            "Gen 26 | New f1: 6.0521, f2: 19.1570\n",
            "Gen 27 | New f1: 13.4694, f2: 19.4286\n",
            "Gen 28 | New f1: 16.8294, f2: 19.7791\n"
          ]
        },
        {
          "output_type": "stream",
          "name": "stderr",
          "text": [
            "/usr/local/lib/python3.11/dist-packages/sklearn/gaussian_process/kernels.py:442: ConvergenceWarning: The optimal value found for dimension 0 of parameter k2__length_scale is close to the specified lower bound 0.0001. Decreasing the bound and calling fit again may find a better value.\n",
            "  warnings.warn(\n"
          ]
        },
        {
          "output_type": "stream",
          "name": "stdout",
          "text": [
            "Gen 29 | New f1: 4.3187, f2: 18.9293\n",
            "Gen 30 | New f1: 3.9488, f2: 18.9879\n",
            "Gen 31 | New f1: 17.1053, f2: 19.8221\n",
            "Gen 32 | New f1: 13.6146, f2: 19.4685\n",
            "Gen 33 | New f1: 14.7829, f2: 19.4076\n",
            "Gen 34 | New f1: 13.5577, f2: 19.5292\n",
            "Gen 35 | New f1: 3.8007, f2: 19.0686\n",
            "Gen 36 | New f1: 13.9585, f2: 19.6950\n",
            "Gen 37 | New f1: 10.7890, f2: 19.4730\n",
            "Gen 38 | New f1: 14.6461, f2: 18.9364\n",
            "Gen 39 | New f1: 14.3636, f2: 19.6665\n",
            "Gen 40 | New f1: 14.2298, f2: 19.3070\n",
            "Gen 41 | New f1: 13.5395, f2: 19.6626\n",
            "Gen 42 | New f1: 15.6125, f2: 19.7872\n",
            "Gen 43 | New f1: 6.8087, f2: 19.0181\n"
          ]
        },
        {
          "output_type": "stream",
          "name": "stderr",
          "text": [
            "/usr/local/lib/python3.11/dist-packages/sklearn/gaussian_process/kernels.py:442: ConvergenceWarning: The optimal value found for dimension 0 of parameter k2__length_scale is close to the specified lower bound 0.0001. Decreasing the bound and calling fit again may find a better value.\n",
            "  warnings.warn(\n"
          ]
        },
        {
          "output_type": "stream",
          "name": "stdout",
          "text": [
            "Gen 44 | New f1: 5.7844, f2: 18.7576\n",
            "Gen 45 | New f1: 16.8702, f2: 19.6735\n"
          ]
        },
        {
          "output_type": "stream",
          "name": "stderr",
          "text": [
            "/usr/local/lib/python3.11/dist-packages/sklearn/gaussian_process/kernels.py:442: ConvergenceWarning: The optimal value found for dimension 0 of parameter k2__length_scale is close to the specified lower bound 0.0001. Decreasing the bound and calling fit again may find a better value.\n",
            "  warnings.warn(\n"
          ]
        },
        {
          "output_type": "stream",
          "name": "stdout",
          "text": [
            "Gen 46 | New f1: 4.0125, f2: 18.8017\n",
            "Gen 47 | New f1: 13.1211, f2: 19.2986\n",
            "Gen 48 | New f1: 7.0574, f2: 17.8811\n",
            "Gen 49 | New f1: 8.1140, f2: 19.1559\n",
            "Gen 50 | New f1: 3.6467, f2: 19.0081\n"
          ]
        }
      ]
    },
    {
      "cell_type": "code",
      "source": [
        "# --- Plot Results ---\n",
        "plt.figure(figsize=(8, 6))\n",
        "plt.scatter(all_f1, all_f2, c='gray', label=\"All Points\")\n",
        "plt.scatter(pareto_front[:, 0], pareto_front[:, 1], c='red', label=\"Pareto Front\")\n",
        "plt.xlabel(\"Objective f1\")\n",
        "plt.ylabel(\"Objective f2\")\n",
        "plt.title(\"ParEGO on KNO1 Test Function\")\n",
        "plt.legend()\n",
        "plt.grid(True)\n",
        "plt.tight_layout()\n",
        "plt.show()"
      ],
      "metadata": {
        "colab": {
          "base_uri": "https://localhost:8080/",
          "height": 607
        },
        "id": "wHVkkCdSJZz-",
        "outputId": "6ac81a40-4ca5-495e-b84b-2b1a9bad5b3d"
      },
      "execution_count": 26,
      "outputs": [
        {
          "output_type": "display_data",
          "data": {
            "text/plain": [
              "<Figure size 800x600 with 1 Axes>"
            ],
            "image/png": "[encoded data removed]"
          },
          "metadata": {}
        }
      ]
    }
  ]
}